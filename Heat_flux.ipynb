{
 "cells": [
  {
   "cell_type": "markdown",
   "id": "e01b9673-5ba2-4ae8-9a5c-b6025b1d4642",
   "metadata": {},
   "source": [
    "# Calculation of the SNB heat flux"
   ]
  },
  {
   "cell_type": "markdown",
   "id": "92aa51fe-3cf2-4778-98f2-9ef3771ee79d",
   "metadata": {},
   "source": [
    "Import all needed libraries"
   ]
  },
  {
   "cell_type": "code",
   "execution_count": null,
   "id": "c005c19e-82a4-48af-8d0d-d041374a38aa",
   "metadata": {},
   "outputs": [],
   "source": [
    "import warnings\n",
    "import numpy as np\n",
    "import matplotlib.pyplot as plt\n",
    "from Heat_flux import plot_heat_flux\n",
    "warnings.filterwarnings('ignore')"
   ]
  },
  {
   "cell_type": "code",
   "execution_count": null,
   "id": "78881e70-8341-4199-809f-af5e96fcd6a5",
   "metadata": {},
   "outputs": [],
   "source": [
    "plot_heat_flux(save=False)"
   ]
  }
 ],
 "metadata": {
  "kernelspec": {
   "display_name": "Python 3 (ipykernel)",
   "language": "python",
   "name": "python3"
  },
  "language_info": {
   "codemirror_mode": {
    "name": "ipython",
    "version": 3
   },
   "file_extension": ".py",
   "mimetype": "text/x-python",
   "name": "python",
   "nbconvert_exporter": "python",
   "pygments_lexer": "ipython3",
   "version": "3.11.2"
  }
 },
 "nbformat": 4,
 "nbformat_minor": 5
}
